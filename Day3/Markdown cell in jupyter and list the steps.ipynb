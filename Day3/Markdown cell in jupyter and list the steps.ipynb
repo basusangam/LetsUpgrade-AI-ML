{
 "cells": [
  {
   "cell_type": "markdown",
   "metadata": {},
   "source": [
    "# Markdown cell in jupyter and list the steps\n",
    "1)Create Github account\n",
    "2)Create public repository\n",
    "3)drag and drop the assignment files in Github profile\n",
    "4)Navigate to folder which is copied and take the url of it in Github\n",
    "5)Paste it in the assignment submission sheet."
   ]
  }
 ],
 "metadata": {
  "kernelspec": {
   "display_name": "Python 3",
   "language": "python",
   "name": "python3"
  },
  "language_info": {
   "codemirror_mode": {
    "name": "ipython",
    "version": 3
   },
   "file_extension": ".py",
   "mimetype": "text/x-python",
   "name": "python",
   "nbconvert_exporter": "python",
   "pygments_lexer": "ipython3",
   "version": "3.7.6"
  }
 },
 "nbformat": 4,
 "nbformat_minor": 4
}
