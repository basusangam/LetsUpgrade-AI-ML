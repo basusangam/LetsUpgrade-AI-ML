{
 "cells": [
  {
   "cell_type": "code",
   "execution_count": 4,
   "metadata": {},
   "outputs": [
    {
     "name": "stdout",
     "output_type": "stream",
     "text": [
      "Available data types in Python are: <class 'int'> <class 'str'> <class 'complex'> <class 'list'> <class 'tuple'> <class 'dict'> <class 'set'>\n"
     ]
    }
   ],
   "source": [
    "# demonstrate all the available data types in Python\n",
    "a=15  \n",
    "b=\"Python\"  \n",
    "c = 12.5  \n",
    "c = 1+3j  \n",
    "list1  = [1, \"hi\", \"Python\", 2]  \n",
    "tup  = (\"hi\", \"Python\", 2)  \n",
    "d = {1:'Jimmy', 2:'Alex', 3:'john', 4:'mike'}   \n",
    "set2 = {'James', 2, 3,'Python'} \n",
    "print(\"Available data types in Python are:\", type(a),type(b),type(c),type(list1),type(tup),type(d),type(set2))  \n",
    "\n"
   ]
  }
 ],
 "metadata": {
  "kernelspec": {
   "display_name": "Python 3",
   "language": "python",
   "name": "python3"
  },
  "language_info": {
   "codemirror_mode": {
    "name": "ipython",
    "version": 3
   },
   "file_extension": ".py",
   "mimetype": "text/x-python",
   "name": "python",
   "nbconvert_exporter": "python",
   "pygments_lexer": "ipython3",
   "version": "3.7.6"
  }
 },
 "nbformat": 4,
 "nbformat_minor": 4
}
