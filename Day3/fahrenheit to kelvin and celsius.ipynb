{
 "cells": [
  {
   "cell_type": "code",
   "execution_count": 12,
   "metadata": {},
   "outputs": [
    {
     "name": "stdout",
     "output_type": "stream",
     "text": [
      "90 fahrenheit to kelvin 305.3722222222222\n",
      "90 fahrenheit to celsius 58\n"
     ]
    }
   ],
   "source": [
    "# convert fahrenheit to kelvin and celsius \n",
    "fahrenheit=90\n",
    "kelvin=(fahrenheit-32)*5/9+273.15\n",
    "print(fahrenheit,\"fahrenheit to kelvin\",kelvin)\n",
    "celsius=(fahrenheit-32)\n",
    "print(fahrenheit,\"fahrenheit to celsius\",celsius)"
   ]
  }
 ],
 "metadata": {
  "kernelspec": {
   "display_name": "Python 3",
   "language": "python",
   "name": "python3"
  },
  "language_info": {
   "codemirror_mode": {
    "name": "ipython",
    "version": 3
   },
   "file_extension": ".py",
   "mimetype": "text/x-python",
   "name": "python",
   "nbconvert_exporter": "python",
   "pygments_lexer": "ipython3",
   "version": "3.7.6"
  }
 },
 "nbformat": 4,
 "nbformat_minor": 4
}
