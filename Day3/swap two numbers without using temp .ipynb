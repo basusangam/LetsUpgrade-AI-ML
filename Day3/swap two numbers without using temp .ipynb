{
 "cells": [
  {
   "cell_type": "code",
   "execution_count": 1,
   "metadata": {},
   "outputs": [
    {
     "name": "stdout",
     "output_type": "stream",
     "text": [
      "Numbers before swap a=  10  and b= 20\n",
      "Numbers before swap a=  20  and b= 10\n"
     ]
    }
   ],
   "source": [
    "# swap two numbers without using temp                                                                                                                                                    variable\n",
    "a=10\n",
    "b=20\n",
    "print (\"Numbers before swap a= \",a,\" and b=\",b)\n",
    "a=a+b   \n",
    "b=a-b    \n",
    "a=a-b \n",
    "print (\"Numbers before swap a= \",a,\" and b=\",b)"
   ]
  }
 ],
 "metadata": {
  "kernelspec": {
   "display_name": "Python 3",
   "language": "python",
   "name": "python3"
  },
  "language_info": {
   "codemirror_mode": {
    "name": "ipython",
    "version": 3
   },
   "file_extension": ".py",
   "mimetype": "text/x-python",
   "name": "python",
   "nbconvert_exporter": "python",
   "pygments_lexer": "ipython3",
   "version": "3.7.6"
  }
 },
 "nbformat": 4,
 "nbformat_minor": 4
}
