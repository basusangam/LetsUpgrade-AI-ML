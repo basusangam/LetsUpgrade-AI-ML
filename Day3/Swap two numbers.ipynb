{
 "cells": [
  {
   "cell_type": "code",
   "execution_count": 2,
   "metadata": {},
   "outputs": [
    {
     "name": "stdout",
     "output_type": "stream",
     "text": [
      "Numbers before swap a=  10  and b= 20\n",
      "Numbers before swap a=  20  and b= 10\n"
     ]
    }
   ],
   "source": [
    "# swap two numbers\n",
    "a=10\n",
    "b=20\n",
    "print (\"Numbers before swap a= \",a,\" and b=\",b)\n",
    "c=b\n",
    "b=a\n",
    "a=c\n",
    "print (\"Numbers before swap a= \",a,\" and b=\",b)\n"
   ]
  }
 ],
 "metadata": {
  "kernelspec": {
   "display_name": "Python 3",
   "language": "python",
   "name": "python3"
  },
  "language_info": {
   "codemirror_mode": {
    "name": "ipython",
    "version": 3
   },
   "file_extension": ".py",
   "mimetype": "text/x-python",
   "name": "python",
   "nbconvert_exporter": "python",
   "pygments_lexer": "ipython3",
   "version": "3.7.6"
  }
 },
 "nbformat": 4,
 "nbformat_minor": 4
}
