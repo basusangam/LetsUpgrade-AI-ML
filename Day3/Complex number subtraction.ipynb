{
 "cells": [
  {
   "cell_type": "code",
   "execution_count": 6,
   "metadata": {
    "scrolled": false
   },
   "outputs": [
    {
     "name": "stdout",
     "output_type": "stream",
     "text": [
      "Subtraction of 2 complex number = (-2-1j)\n"
     ]
    }
   ],
   "source": [
    "# program to subtract two complex numbers in Python.\n",
    "a=1+3j\n",
    "b=3+4j\n",
    "c=a-b\n",
    "print (\"Subtraction of 2 complex number =\", c)"
   ]
  }
 ],
 "metadata": {
  "kernelspec": {
   "display_name": "Python 3",
   "language": "python",
   "name": "python3"
  },
  "language_info": {
   "codemirror_mode": {
    "name": "ipython",
    "version": 3
   },
   "file_extension": ".py",
   "mimetype": "text/x-python",
   "name": "python",
   "nbconvert_exporter": "python",
   "pygments_lexer": "ipython3",
   "version": "3.7.6"
  }
 },
 "nbformat": 4,
 "nbformat_minor": 4
}
