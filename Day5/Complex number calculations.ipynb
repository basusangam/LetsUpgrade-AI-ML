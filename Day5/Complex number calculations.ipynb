{
 "cells": [
  {
   "cell_type": "code",
   "execution_count": 6,
   "metadata": {},
   "outputs": [
    {
     "name": "stdout",
     "output_type": "stream",
     "text": [
      "Addition of two complex number = (9+21j)\n",
      "Subtraction of two complex number = (-3-9j)\n",
      "Multiplication of two complex number = (-72+81j)\n",
      "Division of two complex number = (0.4137931034482759-0.03448275862068964j)\n"
     ]
    }
   ],
   "source": [
    "#Complex number addition, subtraction, multiplication, division, floor division and modulo\n",
    "\n",
    "#first complex number\n",
    "c1 = 3 + 6j\n",
    "#Second complex number\n",
    "c2 = 6 + 15j\n",
    "#Addition\n",
    "print(\"Addition of two complex number =\", c1+c2)\n",
    "#Subtraction\n",
    "print(\"Subtraction of two complex number =\", c1-c2)\n",
    "#Multiplication\n",
    "print(\"Multiplication of two complex number =\", c1*c2)\n",
    "#Division\n",
    "print(\"Division of two complex number =\", c1/c2)\n",
    "#floor Division and modulo is not possible\n"
   ]
  }
 ],
 "metadata": {
  "kernelspec": {
   "display_name": "Python 3",
   "language": "python",
   "name": "python3"
  },
  "language_info": {
   "codemirror_mode": {
    "name": "ipython",
    "version": 3
   },
   "file_extension": ".py",
   "mimetype": "text/x-python",
   "name": "python",
   "nbconvert_exporter": "python",
   "pygments_lexer": "ipython3",
   "version": "3.7.6"
  }
 },
 "nbformat": 4,
 "nbformat_minor": 4
}
