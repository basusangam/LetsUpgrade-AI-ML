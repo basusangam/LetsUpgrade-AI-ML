{
 "cells": [
  {
   "cell_type": "code",
   "execution_count": 3,
   "metadata": {},
   "outputs": [
    {
     "name": "stdout",
     "output_type": "stream",
     "text": [
      "multiplication of num1 and num2 2457\n"
     ]
    }
   ],
   "source": [
    "\"\"\"\"Consider two numbers. Perform their subtraction and if the result of subtraction is greater than\n",
    "25, print their multiplication result else print their division result.\"\"\"\n",
    "\n",
    "num1 = 91\n",
    "num2= 27\n",
    "sub=num1-num2\n",
    "\n",
    "if sub > 25:\n",
    "    print(\"multiplication of num1 and num2:\",num1*num2)\n",
    "else:\n",
    "    print(\"division of num1 and num2:\",num1/num2)"
   ]
  }
 ],
 "metadata": {
  "kernelspec": {
   "display_name": "Python 3",
   "language": "python",
   "name": "python3"
  },
  "language_info": {
   "codemirror_mode": {
    "name": "ipython",
    "version": 3
   },
   "file_extension": ".py",
   "mimetype": "text/x-python",
   "name": "python",
   "nbconvert_exporter": "python",
   "pygments_lexer": "ipython3",
   "version": "3.7.6"
  }
 },
 "nbformat": 4,
 "nbformat_minor": 4
}
